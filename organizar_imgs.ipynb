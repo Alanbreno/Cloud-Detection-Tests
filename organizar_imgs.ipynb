{
 "cells": [
  {
   "cell_type": "code",
   "execution_count": null,
   "metadata": {},
   "outputs": [],
   "source": [
    "import os\n",
    "import shutil\n",
    "\n",
    "# Definindo os diretórios\n",
    "source_dir = 'D:/CloudSEN12+/p509/high/train/Todas'  # Caminho da pasta 'ROI'\n",
    "destination_dir = 'D:/CloudSEN12+/p509/high/train/Todas'  # Caminho do diretório de destino\n",
    "\n",
    "# Verifica se o diretório de destino existe, caso contrário, cria-o\n",
    "if not os.path.exists(destination_dir):\n",
    "    os.makedirs(destination_dir)\n",
    "\n",
    "# Percorre todas as subpastas dentro da pasta 'ROI'\n",
    "for root, dirs, files in os.walk(source_dir):\n",
    "    for file in files:\n",
    "        # Verifica se o arquivo é uma imagem (pode adicionar mais extensões conforme necessário)\n",
    "        if file.endswith(('.tif')):\n",
    "            # Caminho completo do arquivo\n",
    "            file_path = os.path.join(root, file)\n",
    "            \n",
    "            # Copia o arquivo para o diretório de destino\n",
    "            shutil.copy(file_path, destination_dir)\n",
    "\n",
    "print(\"Imagens copiadas com sucesso!\")\n"
   ]
  },
  {
   "cell_type": "code",
   "execution_count": 7,
   "metadata": {},
   "outputs": [
    {
     "name": "stdout",
     "output_type": "stream",
     "text": [
      "Imagens específicas copiadas com sucesso!\n"
     ]
    }
   ],
   "source": [
    "import os\n",
    "import shutil\n",
    "\n",
    "# Definindo os diretórios\n",
    "source_dir = 'D:/CloudSEN12+/p2000/val'  # Caminho da pasta 'ROI'\n",
    "destination_dir = 'D:/CloudSEN12+/p2000/Imagens-Brasil'  # Caminho do diretório de destino\n",
    "\n",
    "# Lista de trechos que devem estar no nome da imagem\n",
    "substrings_Am = ['T18M', 'T19M', 'T20M', 'T21M', 'T22M','T19N', 'T20N', 'T21N', 'T22N']\n",
    "substrings_Br = ['T18M', 'T19M', 'T20M', 'T21M', 'T22M', 'T23M', 'T24M',\n",
    "                'T19N', 'T20N', 'T21N', 'T22N',\n",
    "                'T20L', 'T21L', 'T22L', 'T23L', 'T24L',\n",
    "                'T21K', 'T22K', 'T23K', 'T24K',\n",
    "                'T21J', 'T22J']  # Adicione os trechos específicos aqui\n",
    "\n",
    "# Verifica se o diretório de destino existe, caso contrário, cria-o\n",
    "if not os.path.exists(destination_dir):\n",
    "    os.makedirs(destination_dir)\n",
    "\n",
    "# Percorre todas as subpastas e arquivos dentro da pasta 'ROI'\n",
    "for root, dirs, files in os.walk(source_dir):\n",
    "    for file in files:\n",
    "        # Verifica se o arquivo é uma imagem e contém os trechos no nome\n",
    "        if file.endswith(('.tif')) and any(sub in file for sub in substrings_Br):\n",
    "            # Caminho completo do arquivo\n",
    "            file_path = os.path.join(root, file)\n",
    "            \n",
    "            # Copia o arquivo para o diretório de destino\n",
    "            shutil.copy(file_path, destination_dir)\n",
    "\n",
    "print(\"Imagens específicas copiadas com sucesso!\")\n"
   ]
  }
 ],
 "metadata": {
  "kernelspec": {
   "display_name": "cloud",
   "language": "python",
   "name": "python3"
  },
  "language_info": {
   "codemirror_mode": {
    "name": "ipython",
    "version": 3
   },
   "file_extension": ".py",
   "mimetype": "text/x-python",
   "name": "python",
   "nbconvert_exporter": "python",
   "pygments_lexer": "ipython3",
   "version": "3.11.9"
  }
 },
 "nbformat": 4,
 "nbformat_minor": 2
}
